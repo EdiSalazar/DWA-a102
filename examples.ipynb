{
 "cells": [
  {
   "cell_type": "markdown",
   "metadata": {},
   "source": [
    "# Using the DWA-a102 library\n",
    "\n",
    "**created by edwin salazar and carlos guevara**\n",
    "\n",
    "about this notebook: shows the usage of the above mentioned library for the water balance calculation of different surfaces and and corresponding measures for the runoff uptake "
   ]
  },
  {
   "cell_type": "code",
   "execution_count": 1,
   "metadata": {},
   "outputs": [],
   "source": [
    "# import standard libraries\n",
    "import numpy as np\n",
    "import pandas as pd\n",
    "from IPython.display import display, HTML\n",
    "\n",
    "# import dwa-a102 libraries\n",
    "from dwa_a102 import StudyArea as StudyArea\n",
    "from dwa_a102 import watbal as watbal\n",
    "from check_ranges import validRange\n",
    "from climate import climate"
   ]
  },
  {
   "cell_type": "markdown",
   "metadata": {},
   "source": [
    "### Example # 1 \n",
    "\n",
    "In Wuppertal the administrator of a residential building desire to install a rainwater in-situ measure to reduce the runoff. The building has a built area of 750 m$^{2}$. The desired measure is an infiltration swale (hydraulic conductivity of the soil = 20 mm h$^{-1}$). \n",
    "\n",
    "<br></br>\n",
    "<center><img src=\"images/example_1.png\" style=\"width: 300px\"/></center>\n",
    "<br></br>\n",
    "\n",
    "**Calculate the required area to infiltrate the rainwater and report the main components of the water balance.**\n"
   ]
  },
  {
   "cell_type": "markdown",
   "metadata": {},
   "source": [
    "As first step, we define the study area. This is done using <b>StudyArea</b>. Since we know the specific location, we can give it as an input parameter (i.e. check <b>climate</b> to see the locations available). If not, precipitation and evapotranspiration can be given as parameters.   "
   ]
  },
  {
   "cell_type": "code",
   "execution_count": 2,
   "metadata": {},
   "outputs": [],
   "source": [
    "# create study area object\n",
    "Wuppertal = StudyArea(location='Wuppertal')"
   ]
  },
  {
   "cell_type": "markdown",
   "metadata": {},
   "source": [
    "Check which precipitation and evapotranspiration are assigned to Wuppertal."
   ]
  },
  {
   "cell_type": "code",
   "execution_count": 3,
   "metadata": {},
   "outputs": [
    {
     "name": "stdout",
     "output_type": "stream",
     "text": [
      "Study area has a precipitation of 1400 mm/a, and potential evapotranspiration of 525 mm/a\n"
     ]
    }
   ],
   "source": [
    "# print precipitation and evapotranspiration for study area\n",
    "print(Wuppertal)"
   ]
  },
  {
   "cell_type": "markdown",
   "metadata": {},
   "source": [
    "A flat area with 750 m$^{2}$ is assumed for the residential building. Use the <b>flat_roof</b> method to calculate the corresponding coefficients. "
   ]
  },
  {
   "cell_type": "code",
   "execution_count": 4,
   "metadata": {},
   "outputs": [],
   "source": [
    "# calculate a flat area\n",
    "roof = Wuppertal.roof(750)"
   ]
  },
  {
   "cell_type": "markdown",
   "metadata": {},
   "source": [
    "The flat area give the following results:"
   ]
  },
  {
   "cell_type": "code",
   "execution_count": 5,
   "metadata": {
    "scrolled": true
   },
   "outputs": [
    {
     "data": {
      "text/html": [
       "<div>\n",
       "<style scoped>\n",
       "    .dataframe tbody tr th:only-of-type {\n",
       "        vertical-align: middle;\n",
       "    }\n",
       "\n",
       "    .dataframe tbody tr th {\n",
       "        vertical-align: top;\n",
       "    }\n",
       "\n",
       "    .dataframe thead th {\n",
       "        text-align: right;\n",
       "    }\n",
       "</style>\n",
       "<table border=\"1\" class=\"dataframe\">\n",
       "  <thead>\n",
       "    <tr style=\"text-align: right;\">\n",
       "      <th></th>\n",
       "      <th>Element</th>\n",
       "      <th>Area</th>\n",
       "      <th>Au</th>\n",
       "      <th>P</th>\n",
       "      <th>Etp</th>\n",
       "      <th>a</th>\n",
       "      <th>g</th>\n",
       "      <th>v</th>\n",
       "      <th>e</th>\n",
       "      <th>Vp</th>\n",
       "      <th>Va</th>\n",
       "      <th>Vg</th>\n",
       "      <th>Vv</th>\n",
       "      <th>Ve</th>\n",
       "    </tr>\n",
       "  </thead>\n",
       "  <tbody>\n",
       "    <tr>\n",
       "      <th>0</th>\n",
       "      <td>Roof</td>\n",
       "      <td>750</td>\n",
       "      <td>714.0</td>\n",
       "      <td>1400</td>\n",
       "      <td>525</td>\n",
       "      <td>0.952</td>\n",
       "      <td>0</td>\n",
       "      <td>0.048</td>\n",
       "      <td>0</td>\n",
       "      <td>1050</td>\n",
       "      <td>1000.0</td>\n",
       "      <td>0</td>\n",
       "      <td>50.0</td>\n",
       "      <td>0</td>\n",
       "    </tr>\n",
       "  </tbody>\n",
       "</table>\n",
       "</div>"
      ],
      "text/plain": [
       "  Element  Area     Au     P  Etp      a  g      v  e    Vp      Va  Vg    Vv  \\\n",
       "0    Roof   750  714.0  1400  525  0.952  0  0.048  0  1050  1000.0   0  50.0   \n",
       "\n",
       "   Ve  \n",
       "0   0  "
      ]
     },
     "metadata": {},
     "output_type": "display_data"
    }
   ],
   "source": [
    "display(roof)"
   ]
  },
  {
   "cell_type": "markdown",
   "metadata": {},
   "source": [
    "In order to capture the runoff produced by the flat area, the measure selected is an infiltration swale. Use the <b>infilt_swale</b> method, which uses the hydraulic conductivity of the soil (20 mm h −1) and the corresponding surface(s) as input. "
   ]
  },
  {
   "cell_type": "code",
   "execution_count": 6,
   "metadata": {},
   "outputs": [],
   "source": [
    "infilSwale = Wuppertal.infilt_swale(20, roof)"
   ]
  },
  {
   "cell_type": "markdown",
   "metadata": {},
   "source": [
    "The infiltation swale gives the following results:"
   ]
  },
  {
   "cell_type": "code",
   "execution_count": 7,
   "metadata": {
    "scrolled": true
   },
   "outputs": [
    {
     "data": {
      "text/html": [
       "<div>\n",
       "<style scoped>\n",
       "    .dataframe tbody tr th:only-of-type {\n",
       "        vertical-align: middle;\n",
       "    }\n",
       "\n",
       "    .dataframe tbody tr th {\n",
       "        vertical-align: top;\n",
       "    }\n",
       "\n",
       "    .dataframe thead th {\n",
       "        text-align: right;\n",
       "    }\n",
       "</style>\n",
       "<table border=\"1\" class=\"dataframe\">\n",
       "  <thead>\n",
       "    <tr style=\"text-align: right;\">\n",
       "      <th></th>\n",
       "      <th>Element</th>\n",
       "      <th>Area</th>\n",
       "      <th>Au</th>\n",
       "      <th>P</th>\n",
       "      <th>Etp</th>\n",
       "      <th>a</th>\n",
       "      <th>g</th>\n",
       "      <th>v</th>\n",
       "      <th>e</th>\n",
       "      <th>Vp</th>\n",
       "      <th>Va</th>\n",
       "      <th>Vg</th>\n",
       "      <th>Vv</th>\n",
       "      <th>Ve</th>\n",
       "    </tr>\n",
       "  </thead>\n",
       "  <tbody>\n",
       "    <tr>\n",
       "      <th>0</th>\n",
       "      <td>Roof</td>\n",
       "      <td>750</td>\n",
       "      <td>714.0</td>\n",
       "      <td>1400</td>\n",
       "      <td>525</td>\n",
       "      <td>0.952</td>\n",
       "      <td>0</td>\n",
       "      <td>0.048</td>\n",
       "      <td>0</td>\n",
       "      <td>1050</td>\n",
       "      <td>0.0</td>\n",
       "      <td>0</td>\n",
       "      <td>50.0</td>\n",
       "      <td>0</td>\n",
       "    </tr>\n",
       "    <tr>\n",
       "      <th>1</th>\n",
       "      <td>Infilt. swale</td>\n",
       "      <td>118</td>\n",
       "      <td>714.0</td>\n",
       "      <td>1400</td>\n",
       "      <td>525</td>\n",
       "      <td>0.009</td>\n",
       "      <td>0.959</td>\n",
       "      <td>0.032</td>\n",
       "      <td>0</td>\n",
       "      <td>165</td>\n",
       "      <td>11.0</td>\n",
       "      <td>1117</td>\n",
       "      <td>37.0</td>\n",
       "      <td>0</td>\n",
       "    </tr>\n",
       "  </tbody>\n",
       "</table>\n",
       "</div>"
      ],
      "text/plain": [
       "         Element Area     Au     P  Etp      a      g      v  e    Vp    Va  \\\n",
       "0           Roof  750  714.0  1400  525  0.952      0  0.048  0  1050   0.0   \n",
       "1  Infilt. swale  118  714.0  1400  525  0.009  0.959  0.032  0   165  11.0   \n",
       "\n",
       "     Vg    Vv Ve  \n",
       "0     0  50.0  0  \n",
       "1  1117  37.0  0  "
      ]
     },
     "metadata": {},
     "output_type": "display_data"
    }
   ],
   "source": [
    "display(infilSwale)"
   ]
  },
  {
   "cell_type": "markdown",
   "metadata": {},
   "source": [
    "The corresponding water balance is calculated using the <b>watbal</b> function, which uses the surfaces and measures taken as input. The water balance is as follows:"
   ]
  },
  {
   "cell_type": "code",
   "execution_count": 8,
   "metadata": {},
   "outputs": [
    {
     "data": {
      "text/html": [
       "<div>\n",
       "<style scoped>\n",
       "    .dataframe tbody tr th:only-of-type {\n",
       "        vertical-align: middle;\n",
       "    }\n",
       "\n",
       "    .dataframe tbody tr th {\n",
       "        vertical-align: top;\n",
       "    }\n",
       "\n",
       "    .dataframe thead th {\n",
       "        text-align: right;\n",
       "    }\n",
       "</style>\n",
       "<table border=\"1\" class=\"dataframe\">\n",
       "  <thead>\n",
       "    <tr style=\"text-align: right;\">\n",
       "      <th></th>\n",
       "      <th>Element</th>\n",
       "      <th>Area</th>\n",
       "      <th>a</th>\n",
       "      <th>g</th>\n",
       "      <th>v</th>\n",
       "      <th>Vp</th>\n",
       "      <th>Va</th>\n",
       "      <th>Vg</th>\n",
       "      <th>Vv</th>\n",
       "    </tr>\n",
       "  </thead>\n",
       "  <tbody>\n",
       "    <tr>\n",
       "      <th>0</th>\n",
       "      <td>Roof</td>\n",
       "      <td>750</td>\n",
       "      <td>0.952</td>\n",
       "      <td>0</td>\n",
       "      <td>0.048</td>\n",
       "      <td>1050</td>\n",
       "      <td>1000.0</td>\n",
       "      <td>0</td>\n",
       "      <td>50.0</td>\n",
       "    </tr>\n",
       "    <tr>\n",
       "      <th>0</th>\n",
       "      <td>Roof</td>\n",
       "      <td>750</td>\n",
       "      <td>0.952</td>\n",
       "      <td>0</td>\n",
       "      <td>0.048</td>\n",
       "      <td>1050</td>\n",
       "      <td>0.0</td>\n",
       "      <td>0</td>\n",
       "      <td>50.0</td>\n",
       "    </tr>\n",
       "    <tr>\n",
       "      <th>1</th>\n",
       "      <td>Infilt. swale</td>\n",
       "      <td>118</td>\n",
       "      <td>0.009</td>\n",
       "      <td>0.959</td>\n",
       "      <td>0.032</td>\n",
       "      <td>165</td>\n",
       "      <td>11.0</td>\n",
       "      <td>1117</td>\n",
       "      <td>37.0</td>\n",
       "    </tr>\n",
       "    <tr>\n",
       "      <th>0</th>\n",
       "      <td>System</td>\n",
       "      <td>1618</td>\n",
       "      <td>0.446</td>\n",
       "      <td>0.493</td>\n",
       "      <td>0.060</td>\n",
       "      <td>2265</td>\n",
       "      <td>1011.0</td>\n",
       "      <td>1117</td>\n",
       "      <td>137.0</td>\n",
       "    </tr>\n",
       "  </tbody>\n",
       "</table>\n",
       "</div>"
      ],
      "text/plain": [
       "         Element  Area      a      g      v    Vp      Va    Vg     Vv\n",
       "0           Roof   750  0.952      0  0.048  1050  1000.0     0   50.0\n",
       "0           Roof   750  0.952      0  0.048  1050     0.0     0   50.0\n",
       "1  Infilt. swale   118  0.009  0.959  0.032   165    11.0  1117   37.0\n",
       "0         System  1618  0.446  0.493  0.060  2265  1011.0  1117  137.0"
      ]
     },
     "metadata": {},
     "output_type": "display_data"
    }
   ],
   "source": [
    "display(watbal(roof,infilSwale))"
   ]
  },
  {
   "cell_type": "markdown",
   "metadata": {},
   "source": [
    "### Example # 2 \n",
    "\n",
    "A neighborhood in München requires an analysis of the water urban cycle. All buildings have a built area of 750 m$^{2}$. Calculate the required area to infiltrate the rainwater of Building 1 (hydraulic conductivity of the soil = 150 mm h$^{-1}$). Building 2 and Building 3 drain with pipes the rainwater. Additionally,  both building share a public area of 1500 m$^{2}$ and its ground is mode of partially permeable (FA = 5%, kf = 50 mm h$^{-1}$, Sp = 1 mm). There is a street completely impermeable that divide Building 1 from B. 2 and B. 3., storage height of the street is 2.5 mm. \n",
    "\n",
    "<br></br>\n",
    "<center><img src=\"images/example_2.png\" style=\"width: 300px\"/></center>\n",
    "<br></br>\n",
    "\n",
    "**Calculate the required area to infiltrate the rainwater and report the main components of the water balance.**"
   ]
  },
  {
   "cell_type": "code",
   "execution_count": 9,
   "metadata": {},
   "outputs": [],
   "source": [
    "# create study area object\n",
    "Munich = StudyArea(location='München')"
   ]
  },
  {
   "cell_type": "code",
   "execution_count": 10,
   "metadata": {},
   "outputs": [
    {
     "name": "stdout",
     "output_type": "stream",
     "text": [
      "Study area has a precipitation of 1000 mm/a, and potential evapotranspiration of 550 mm/a\n"
     ]
    }
   ],
   "source": [
    "# print precipitation and evapotranspiration for study area\n",
    "print(Munich)"
   ]
  },
  {
   "cell_type": "markdown",
   "metadata": {},
   "source": [
    "Calculate the runoff produced by the three buildings."
   ]
  },
  {
   "cell_type": "code",
   "execution_count": 11,
   "metadata": {},
   "outputs": [],
   "source": [
    "# create flat areas for all buildings\n",
    "\n",
    "# initialize flat areas list\n",
    "roofs = []\n",
    "\n",
    "# store the flat area for each building\n",
    "for i in range(3):\n",
    "    roofs.append(Munich.roof(750))"
   ]
  },
  {
   "cell_type": "code",
   "execution_count": 12,
   "metadata": {
    "scrolled": false
   },
   "outputs": [
    {
     "data": {
      "text/html": [
       "<div>\n",
       "<style scoped>\n",
       "    .dataframe tbody tr th:only-of-type {\n",
       "        vertical-align: middle;\n",
       "    }\n",
       "\n",
       "    .dataframe tbody tr th {\n",
       "        vertical-align: top;\n",
       "    }\n",
       "\n",
       "    .dataframe thead th {\n",
       "        text-align: right;\n",
       "    }\n",
       "</style>\n",
       "<table border=\"1\" class=\"dataframe\">\n",
       "  <thead>\n",
       "    <tr style=\"text-align: right;\">\n",
       "      <th></th>\n",
       "      <th>Element</th>\n",
       "      <th>Area</th>\n",
       "      <th>Au</th>\n",
       "      <th>P</th>\n",
       "      <th>Etp</th>\n",
       "      <th>a</th>\n",
       "      <th>g</th>\n",
       "      <th>v</th>\n",
       "      <th>e</th>\n",
       "      <th>Vp</th>\n",
       "      <th>Va</th>\n",
       "      <th>Vg</th>\n",
       "      <th>Vv</th>\n",
       "      <th>Ve</th>\n",
       "    </tr>\n",
       "  </thead>\n",
       "  <tbody>\n",
       "    <tr>\n",
       "      <th>0</th>\n",
       "      <td>Roof</td>\n",
       "      <td>750</td>\n",
       "      <td>693.0</td>\n",
       "      <td>1000</td>\n",
       "      <td>550</td>\n",
       "      <td>0.924</td>\n",
       "      <td>0</td>\n",
       "      <td>0.076</td>\n",
       "      <td>0</td>\n",
       "      <td>750</td>\n",
       "      <td>693.0</td>\n",
       "      <td>0</td>\n",
       "      <td>57.0</td>\n",
       "      <td>0</td>\n",
       "    </tr>\n",
       "  </tbody>\n",
       "</table>\n",
       "</div>"
      ],
      "text/plain": [
       "  Element  Area     Au     P  Etp      a  g      v  e   Vp     Va  Vg    Vv  \\\n",
       "0    Roof   750  693.0  1000  550  0.924  0  0.076  0  750  693.0   0  57.0   \n",
       "\n",
       "   Ve  \n",
       "0   0  "
      ]
     },
     "metadata": {},
     "output_type": "display_data"
    }
   ],
   "source": [
    "# Building 1 - flat area\n",
    "display(roofs[0])\n"
   ]
  },
  {
   "cell_type": "markdown",
   "metadata": {},
   "source": [
    "Use and infiltation swale to capture the runoff from Building 1"
   ]
  },
  {
   "cell_type": "code",
   "execution_count": 13,
   "metadata": {},
   "outputs": [],
   "source": [
    "infilSwale_B1 = Munich.infilt_swale(150, roofs[0])"
   ]
  },
  {
   "cell_type": "markdown",
   "metadata": {},
   "source": [
    "The information for infilSwale_B1 is as follows:"
   ]
  },
  {
   "cell_type": "code",
   "execution_count": 14,
   "metadata": {
    "scrolled": false
   },
   "outputs": [
    {
     "data": {
      "text/html": [
       "<div>\n",
       "<style scoped>\n",
       "    .dataframe tbody tr th:only-of-type {\n",
       "        vertical-align: middle;\n",
       "    }\n",
       "\n",
       "    .dataframe tbody tr th {\n",
       "        vertical-align: top;\n",
       "    }\n",
       "\n",
       "    .dataframe thead th {\n",
       "        text-align: right;\n",
       "    }\n",
       "</style>\n",
       "<table border=\"1\" class=\"dataframe\">\n",
       "  <thead>\n",
       "    <tr style=\"text-align: right;\">\n",
       "      <th></th>\n",
       "      <th>Element</th>\n",
       "      <th>Area</th>\n",
       "      <th>Au</th>\n",
       "      <th>P</th>\n",
       "      <th>Etp</th>\n",
       "      <th>a</th>\n",
       "      <th>g</th>\n",
       "      <th>v</th>\n",
       "      <th>e</th>\n",
       "      <th>Vp</th>\n",
       "      <th>Va</th>\n",
       "      <th>Vg</th>\n",
       "      <th>Vv</th>\n",
       "      <th>Ve</th>\n",
       "    </tr>\n",
       "  </thead>\n",
       "  <tbody>\n",
       "    <tr>\n",
       "      <th>0</th>\n",
       "      <td>Roof</td>\n",
       "      <td>750</td>\n",
       "      <td>693.0</td>\n",
       "      <td>1000</td>\n",
       "      <td>550</td>\n",
       "      <td>0.924</td>\n",
       "      <td>0</td>\n",
       "      <td>0.076</td>\n",
       "      <td>0</td>\n",
       "      <td>750</td>\n",
       "      <td>0.0</td>\n",
       "      <td>0</td>\n",
       "      <td>57.0</td>\n",
       "      <td>0</td>\n",
       "    </tr>\n",
       "    <tr>\n",
       "      <th>1</th>\n",
       "      <td>Infilt. swale</td>\n",
       "      <td>61</td>\n",
       "      <td>693.0</td>\n",
       "      <td>1000</td>\n",
       "      <td>550</td>\n",
       "      <td>0.000</td>\n",
       "      <td>0.974</td>\n",
       "      <td>0.026</td>\n",
       "      <td>0</td>\n",
       "      <td>61</td>\n",
       "      <td>0.0</td>\n",
       "      <td>734</td>\n",
       "      <td>20.0</td>\n",
       "      <td>0</td>\n",
       "    </tr>\n",
       "  </tbody>\n",
       "</table>\n",
       "</div>"
      ],
      "text/plain": [
       "         Element Area     Au     P  Etp      a      g      v  e   Vp   Va  \\\n",
       "0           Roof  750  693.0  1000  550  0.924      0  0.076  0  750  0.0   \n",
       "1  Infilt. swale   61  693.0  1000  550  0.000  0.974  0.026  0   61  0.0   \n",
       "\n",
       "    Vg    Vv Ve  \n",
       "0    0  57.0  0  \n",
       "1  734  20.0  0  "
      ]
     },
     "metadata": {},
     "output_type": "display_data"
    }
   ],
   "source": [
    "display(infilSwale_B1)"
   ]
  },
  {
   "cell_type": "markdown",
   "metadata": {},
   "source": [
    "Building 2 and 3 use a pipe as drainage measure. Calculate this measure using the <b>drainage</b> method. "
   ]
  },
  {
   "cell_type": "code",
   "execution_count": 15,
   "metadata": {},
   "outputs": [],
   "source": [
    "# Drainage for building 2\n",
    "drainage_B2 = Munich.drainage(\"pipe\", roofs[1])\n",
    "# Drainage for building 3\n",
    "drainage_B3 = Munich.drainage(\"pipe\", roofs[1])"
   ]
  },
  {
   "cell_type": "code",
   "execution_count": 16,
   "metadata": {
    "scrolled": true
   },
   "outputs": [
    {
     "data": {
      "text/html": [
       "<div>\n",
       "<style scoped>\n",
       "    .dataframe tbody tr th:only-of-type {\n",
       "        vertical-align: middle;\n",
       "    }\n",
       "\n",
       "    .dataframe tbody tr th {\n",
       "        vertical-align: top;\n",
       "    }\n",
       "\n",
       "    .dataframe thead th {\n",
       "        text-align: right;\n",
       "    }\n",
       "</style>\n",
       "<table border=\"1\" class=\"dataframe\">\n",
       "  <thead>\n",
       "    <tr style=\"text-align: right;\">\n",
       "      <th></th>\n",
       "      <th>Element</th>\n",
       "      <th>Area</th>\n",
       "      <th>Au</th>\n",
       "      <th>P</th>\n",
       "      <th>Etp</th>\n",
       "      <th>a</th>\n",
       "      <th>g</th>\n",
       "      <th>v</th>\n",
       "      <th>e</th>\n",
       "      <th>Vp</th>\n",
       "      <th>Va</th>\n",
       "      <th>Vg</th>\n",
       "      <th>Vv</th>\n",
       "      <th>Ve</th>\n",
       "    </tr>\n",
       "  </thead>\n",
       "  <tbody>\n",
       "    <tr>\n",
       "      <th>0</th>\n",
       "      <td>Roof</td>\n",
       "      <td>750</td>\n",
       "      <td>693.0</td>\n",
       "      <td>1000</td>\n",
       "      <td>550</td>\n",
       "      <td>0.924</td>\n",
       "      <td>0</td>\n",
       "      <td>0.076</td>\n",
       "      <td>0</td>\n",
       "      <td>750</td>\n",
       "      <td>0.0</td>\n",
       "      <td>0</td>\n",
       "      <td>57.0</td>\n",
       "      <td>0</td>\n",
       "    </tr>\n",
       "    <tr>\n",
       "      <th>1</th>\n",
       "      <td>Drainage</td>\n",
       "      <td>0</td>\n",
       "      <td>693.0</td>\n",
       "      <td>1000</td>\n",
       "      <td>550</td>\n",
       "      <td>1.000</td>\n",
       "      <td>0</td>\n",
       "      <td>0.000</td>\n",
       "      <td>0</td>\n",
       "      <td>0</td>\n",
       "      <td>693.0</td>\n",
       "      <td>0</td>\n",
       "      <td>0.0</td>\n",
       "      <td>0</td>\n",
       "    </tr>\n",
       "  </tbody>\n",
       "</table>\n",
       "</div>"
      ],
      "text/plain": [
       "    Element Area     Au     P  Etp      a  g      v  e   Vp     Va Vg    Vv Ve\n",
       "0      Roof  750  693.0  1000  550  0.924  0  0.076  0  750    0.0  0  57.0  0\n",
       "1  Drainage    0  693.0  1000  550  1.000  0  0.000  0    0  693.0  0   0.0  0"
      ]
     },
     "metadata": {},
     "output_type": "display_data"
    }
   ],
   "source": [
    "display(drainage_B2)"
   ]
  },
  {
   "cell_type": "markdown",
   "metadata": {},
   "source": [
    "Moreover, building 2 and 3 share a common infiltration area with an area of 1500 m$^{2}$. Create the infiltation area as specified (use <b>permeable_surface</b>) above.  "
   ]
  },
  {
   "cell_type": "code",
   "execution_count": 17,
   "metadata": {},
   "outputs": [],
   "source": [
    "green_area_B2_3 = Munich.permeable_surface(1500, 5, 50, sp=1)"
   ]
  },
  {
   "cell_type": "code",
   "execution_count": 18,
   "metadata": {},
   "outputs": [
    {
     "data": {
      "text/html": [
       "<div>\n",
       "<style scoped>\n",
       "    .dataframe tbody tr th:only-of-type {\n",
       "        vertical-align: middle;\n",
       "    }\n",
       "\n",
       "    .dataframe tbody tr th {\n",
       "        vertical-align: top;\n",
       "    }\n",
       "\n",
       "    .dataframe thead th {\n",
       "        text-align: right;\n",
       "    }\n",
       "</style>\n",
       "<table border=\"1\" class=\"dataframe\">\n",
       "  <thead>\n",
       "    <tr style=\"text-align: right;\">\n",
       "      <th></th>\n",
       "      <th>Element</th>\n",
       "      <th>Area</th>\n",
       "      <th>Au</th>\n",
       "      <th>P</th>\n",
       "      <th>Etp</th>\n",
       "      <th>a</th>\n",
       "      <th>g</th>\n",
       "      <th>v</th>\n",
       "      <th>e</th>\n",
       "      <th>Vp</th>\n",
       "      <th>Va</th>\n",
       "      <th>Vg</th>\n",
       "      <th>Vv</th>\n",
       "      <th>Ve</th>\n",
       "    </tr>\n",
       "  </thead>\n",
       "  <tbody>\n",
       "    <tr>\n",
       "      <th>0</th>\n",
       "      <td>Permeable surface</td>\n",
       "      <td>1500</td>\n",
       "      <td>441.0</td>\n",
       "      <td>1000</td>\n",
       "      <td>550</td>\n",
       "      <td>0.294</td>\n",
       "      <td>0.566</td>\n",
       "      <td>0.14</td>\n",
       "      <td>0</td>\n",
       "      <td>1500</td>\n",
       "      <td>441.0</td>\n",
       "      <td>848.0</td>\n",
       "      <td>210.0</td>\n",
       "      <td>0</td>\n",
       "    </tr>\n",
       "  </tbody>\n",
       "</table>\n",
       "</div>"
      ],
      "text/plain": [
       "             Element  Area     Au     P  Etp      a      g     v  e    Vp  \\\n",
       "0  Permeable surface  1500  441.0  1000  550  0.294  0.566  0.14  0  1500   \n",
       "\n",
       "      Va     Vg     Vv  Ve  \n",
       "0  441.0  848.0  210.0   0  "
      ]
     },
     "metadata": {},
     "output_type": "display_data"
    }
   ],
   "source": [
    "display(green_area_B2_3)"
   ]
  },
  {
   "cell_type": "markdown",
   "metadata": {},
   "source": [
    "The street runoff is calculated using the <b>flat_area</b> method. The area of the street is assumed to be 1000 m$^{2}$ with a storage height of 2.5 mm. "
   ]
  },
  {
   "cell_type": "code",
   "execution_count": 19,
   "metadata": {},
   "outputs": [],
   "source": [
    "street = Munich.flat_area(1000, 2.5)"
   ]
  },
  {
   "cell_type": "markdown",
   "metadata": {},
   "source": [
    "The water balance for the Munich area is as follows:"
   ]
  },
  {
   "cell_type": "code",
   "execution_count": 20,
   "metadata": {},
   "outputs": [
    {
     "data": {
      "text/html": [
       "<div>\n",
       "<style scoped>\n",
       "    .dataframe tbody tr th:only-of-type {\n",
       "        vertical-align: middle;\n",
       "    }\n",
       "\n",
       "    .dataframe tbody tr th {\n",
       "        vertical-align: top;\n",
       "    }\n",
       "\n",
       "    .dataframe thead th {\n",
       "        text-align: right;\n",
       "    }\n",
       "</style>\n",
       "<table border=\"1\" class=\"dataframe\">\n",
       "  <thead>\n",
       "    <tr style=\"text-align: right;\">\n",
       "      <th></th>\n",
       "      <th>Element</th>\n",
       "      <th>Area</th>\n",
       "      <th>a</th>\n",
       "      <th>g</th>\n",
       "      <th>v</th>\n",
       "      <th>Vp</th>\n",
       "      <th>Va</th>\n",
       "      <th>Vg</th>\n",
       "      <th>Vv</th>\n",
       "    </tr>\n",
       "  </thead>\n",
       "  <tbody>\n",
       "    <tr>\n",
       "      <th>0</th>\n",
       "      <td>Roof</td>\n",
       "      <td>750</td>\n",
       "      <td>0.924</td>\n",
       "      <td>0</td>\n",
       "      <td>0.076</td>\n",
       "      <td>750</td>\n",
       "      <td>693.0</td>\n",
       "      <td>0</td>\n",
       "      <td>57.0</td>\n",
       "    </tr>\n",
       "    <tr>\n",
       "      <th>0</th>\n",
       "      <td>Roof</td>\n",
       "      <td>750</td>\n",
       "      <td>0.924</td>\n",
       "      <td>0</td>\n",
       "      <td>0.076</td>\n",
       "      <td>750</td>\n",
       "      <td>693.0</td>\n",
       "      <td>0</td>\n",
       "      <td>57.0</td>\n",
       "    </tr>\n",
       "    <tr>\n",
       "      <th>0</th>\n",
       "      <td>Roof</td>\n",
       "      <td>750</td>\n",
       "      <td>0.924</td>\n",
       "      <td>0</td>\n",
       "      <td>0.076</td>\n",
       "      <td>750</td>\n",
       "      <td>693.0</td>\n",
       "      <td>0</td>\n",
       "      <td>57.0</td>\n",
       "    </tr>\n",
       "    <tr>\n",
       "      <th>0</th>\n",
       "      <td>Roof</td>\n",
       "      <td>750</td>\n",
       "      <td>0.924</td>\n",
       "      <td>0</td>\n",
       "      <td>0.076</td>\n",
       "      <td>750</td>\n",
       "      <td>0.0</td>\n",
       "      <td>0</td>\n",
       "      <td>57.0</td>\n",
       "    </tr>\n",
       "    <tr>\n",
       "      <th>1</th>\n",
       "      <td>Infilt. swale</td>\n",
       "      <td>61</td>\n",
       "      <td>0.000</td>\n",
       "      <td>0.974</td>\n",
       "      <td>0.026</td>\n",
       "      <td>61</td>\n",
       "      <td>0.0</td>\n",
       "      <td>734</td>\n",
       "      <td>20.0</td>\n",
       "    </tr>\n",
       "    <tr>\n",
       "      <th>0</th>\n",
       "      <td>Roof</td>\n",
       "      <td>750</td>\n",
       "      <td>0.924</td>\n",
       "      <td>0</td>\n",
       "      <td>0.076</td>\n",
       "      <td>750</td>\n",
       "      <td>0.0</td>\n",
       "      <td>0</td>\n",
       "      <td>57.0</td>\n",
       "    </tr>\n",
       "    <tr>\n",
       "      <th>1</th>\n",
       "      <td>Drainage</td>\n",
       "      <td>0</td>\n",
       "      <td>1.000</td>\n",
       "      <td>0</td>\n",
       "      <td>0.000</td>\n",
       "      <td>0</td>\n",
       "      <td>693.0</td>\n",
       "      <td>0</td>\n",
       "      <td>0.0</td>\n",
       "    </tr>\n",
       "    <tr>\n",
       "      <th>0</th>\n",
       "      <td>Roof</td>\n",
       "      <td>750</td>\n",
       "      <td>0.924</td>\n",
       "      <td>0</td>\n",
       "      <td>0.076</td>\n",
       "      <td>750</td>\n",
       "      <td>0.0</td>\n",
       "      <td>0</td>\n",
       "      <td>57.0</td>\n",
       "    </tr>\n",
       "    <tr>\n",
       "      <th>1</th>\n",
       "      <td>Drainage</td>\n",
       "      <td>0</td>\n",
       "      <td>1.000</td>\n",
       "      <td>0</td>\n",
       "      <td>0.000</td>\n",
       "      <td>0</td>\n",
       "      <td>693.0</td>\n",
       "      <td>0</td>\n",
       "      <td>0.0</td>\n",
       "    </tr>\n",
       "    <tr>\n",
       "      <th>0</th>\n",
       "      <td>Permeable surface</td>\n",
       "      <td>1500</td>\n",
       "      <td>0.294</td>\n",
       "      <td>0.566</td>\n",
       "      <td>0.140</td>\n",
       "      <td>1500</td>\n",
       "      <td>441.0</td>\n",
       "      <td>848</td>\n",
       "      <td>210.0</td>\n",
       "    </tr>\n",
       "    <tr>\n",
       "      <th>0</th>\n",
       "      <td>Flat area</td>\n",
       "      <td>1000</td>\n",
       "      <td>0.784</td>\n",
       "      <td>0</td>\n",
       "      <td>0.216</td>\n",
       "      <td>1000</td>\n",
       "      <td>784.0</td>\n",
       "      <td>0</td>\n",
       "      <td>216.0</td>\n",
       "    </tr>\n",
       "    <tr>\n",
       "      <th>0</th>\n",
       "      <td>System</td>\n",
       "      <td>7061</td>\n",
       "      <td>0.664</td>\n",
       "      <td>0.224</td>\n",
       "      <td>0.112</td>\n",
       "      <td>7061</td>\n",
       "      <td>4690.0</td>\n",
       "      <td>1582</td>\n",
       "      <td>788.0</td>\n",
       "    </tr>\n",
       "  </tbody>\n",
       "</table>\n",
       "</div>"
      ],
      "text/plain": [
       "             Element  Area      a      g      v    Vp      Va    Vg     Vv\n",
       "0               Roof   750  0.924      0  0.076   750   693.0     0   57.0\n",
       "0               Roof   750  0.924      0  0.076   750   693.0     0   57.0\n",
       "0               Roof   750  0.924      0  0.076   750   693.0     0   57.0\n",
       "0               Roof   750  0.924      0  0.076   750     0.0     0   57.0\n",
       "1      Infilt. swale    61  0.000  0.974  0.026    61     0.0   734   20.0\n",
       "0               Roof   750  0.924      0  0.076   750     0.0     0   57.0\n",
       "1           Drainage     0  1.000      0  0.000     0   693.0     0    0.0\n",
       "0               Roof   750  0.924      0  0.076   750     0.0     0   57.0\n",
       "1           Drainage     0  1.000      0  0.000     0   693.0     0    0.0\n",
       "0  Permeable surface  1500  0.294  0.566  0.140  1500   441.0   848  210.0\n",
       "0          Flat area  1000  0.784      0  0.216  1000   784.0     0  216.0\n",
       "0             System  7061  0.664  0.224  0.112  7061  4690.0  1582  788.0"
      ]
     },
     "metadata": {},
     "output_type": "display_data"
    }
   ],
   "source": [
    "display(watbal(\n",
    "    roofs[0], \n",
    "    roofs[1], \n",
    "    roofs[2], \n",
    "    infilSwale_B1, \n",
    "    drainage_B2, \n",
    "    drainage_B2,\n",
    "    green_area_B2_3, \n",
    "    street\n",
    "))"
   ]
  }
 ],
 "metadata": {
  "kernelspec": {
   "display_name": "Python 3",
   "language": "python",
   "name": "python3"
  },
  "language_info": {
   "codemirror_mode": {
    "name": "ipython",
    "version": 3
   },
   "file_extension": ".py",
   "mimetype": "text/x-python",
   "name": "python",
   "nbconvert_exporter": "python",
   "pygments_lexer": "ipython3",
   "version": "3.8.5"
  }
 },
 "nbformat": 4,
 "nbformat_minor": 4
}
