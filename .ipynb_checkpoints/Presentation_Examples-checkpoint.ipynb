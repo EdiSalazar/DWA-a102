{
 "cells": [
  {
   "cell_type": "markdown",
   "metadata": {},
   "source": [
    "# DWA-A102 library\n",
    "\n",
    "**Author: Edwin Echeverri S. (2021-03-27)**\n"
   ]
  },
  {
   "cell_type": "markdown",
   "metadata": {},
   "source": [
    "## Import"
   ]
  },
  {
   "cell_type": "code",
   "execution_count": 1,
   "metadata": {},
   "outputs": [],
   "source": [
    "# import standard libraries\n",
    "import numpy as np\n",
    "import pandas as pd\n",
    "from IPython.display import Image\n",
    "\n",
    "# import dwa-a102 libraries\n",
    "from dwa_a102 import StudyArea as StudyArea\n",
    "from dwa_a102 import watbal as watbal\n",
    "from check_ranges import validRange\n",
    "from climate import climate"
   ]
  },
  {
   "cell_type": "markdown",
   "metadata": {},
   "source": [
    "## 1. Introduction\n",
    "\n",
    "This notebook presents some basic examples of the usage of the library DWA-A102. The purpose of the deloved code is to provide a tool to calculate the main components of the water balance in urban areas. The applied equations are the presented in the German Guideline DWA-A102 (2017). The balance is considered as:\n",
    "\n",
    "<center>$P_{korr} = R_D + ET_a+ GWN $<center>\n",
    "\n",
    "That can be rewriten as:\n",
    "\n",
    "<center>$P_{korr} = a*P_{korr} + v*P_{korr} + g*P_{korr}$<center>\n",
    "\n",
    "Having:\n",
    "\n",
    "<center>$1 = a + v + g$<center>\n",
    "<br \\n>\n",
    "    \n",
    "<center>(DWA-A 102, 2017)<center>"
   ]
  },
  {
   "cell_type": "markdown",
   "metadata": {},
   "source": [
    "$P_{korr}$\t: Precipitation (corrected) (mm/a), \n",
    "$R_D$\t: Surface runoff (mm/a), \n",
    "$ET_a$\t: Actual evapotranspiration (mm/a), \n",
    "$GWN$\t: Groundwater recharge (mm/a), \n",
    "$a$\t: Partitioning factor for surface runoff (-), \n",
    "$v$\t: Partitioning factor for evapotranspiration (-), \n",
    "$g$\t: Partitioning factor for groundwater recharge (-)."
   ]
  },
  {
   "cell_type": "markdown",
   "metadata": {},
   "source": [
    "The structure of the library is presented in the following figure:\n",
    "\n",
    "<br></br>\n",
    "<center><img src=\"images/dwa-a102_Structure.png\"  style=\"width: 600px\"><center>\n",
    "<br></br>\n",
    "    \n",
    "<center> <b> Fig. 1: Classes and functions of package </b> <center>"
   ]
  },
  {
   "cell_type": "markdown",
   "metadata": {},
   "source": [
    "The Classes Surface() and Measure() contains the following methods:\n",
    "\n",
    "<br></br>\n",
    "<center><img src=\"images/dwa-a102_Methods.png\"  style=\"width: 600px\"><center>\n",
    "<br></br>\n",
    "    \n",
    "<center> <b> Fig. 2: Methods of classes \"Surface\" and \"Measure\" </b> <center>"
   ]
  },
  {
   "cell_type": "markdown",
   "metadata": {},
   "source": [
    "## 2. Examples"
   ]
  },
  {
   "cell_type": "markdown",
   "metadata": {},
   "source": [
    "### 2.1 Create Study Area\n",
    "The first recommended step is to define your Study Area with the climatic data (P, ETp). By default, the library considers a P=800 mm/a, and ETp = 500 mm/a."
   ]
  },
  {
   "cell_type": "code",
   "execution_count": 3,
   "metadata": {},
   "outputs": [
    {
     "name": "stdout",
     "output_type": "stream",
     "text": [
      "Study area has a precipitation of 900 mm/a, and potential evapotranspiration of 600 mm/a\n"
     ]
    }
   ],
   "source": [
    "my_area = StudyArea(p=900, etp=600)\n",
    "print(my_area)"
   ]
  },
  {
   "cell_type": "code",
   "execution_count": 4,
   "metadata": {},
   "outputs": [
    {
     "name": "stdout",
     "output_type": "stream",
     "text": [
      "Study area has a precipitation of 800 mm/a, and potential evapotranspiration of 500 mm/a\n"
     ]
    }
   ],
   "source": [
    "my_area2 = StudyArea()\n",
    "print(my_area2)"
   ]
  },
  {
   "cell_type": "markdown",
   "metadata": {},
   "source": [
    "The user can use the reference climatic values that the package contians for the 58 biggest cities in Germany. In this case, it is only necessary to define the location as follows:"
   ]
  },
  {
   "cell_type": "code",
   "execution_count": 2,
   "metadata": {},
   "outputs": [
    {
     "name": "stdout",
     "output_type": "stream",
     "text": [
      "Study area has a precipitation of 700 mm/a, and potential evapotranspiration of 575 mm/a\n"
     ]
    }
   ],
   "source": [
    "hannover = StudyArea(location=\"Hannover\")\n",
    "print(hannover)"
   ]
  },
  {
   "cell_type": "markdown",
   "metadata": {},
   "source": [
    "In either case, whether the user enters the climatic values or uses the reference dictionary, the values are validated to see if they are within the range of validity of the equations."
   ]
  },
  {
   "cell_type": "code",
   "execution_count": 5,
   "metadata": {},
   "outputs": [
    {
     "ename": "Exception",
     "evalue": "Precipitation is not valid. Acceptable range: 500 - 1700 mm/a",
     "output_type": "error",
     "traceback": [
      "\u001b[1;31m---------------------------------------------------------------------------\u001b[0m",
      "\u001b[1;31mException\u001b[0m                                 Traceback (most recent call last)",
      "\u001b[1;32m<ipython-input-5-519c7fd218d6>\u001b[0m in \u001b[0;36m<module>\u001b[1;34m\u001b[0m\n\u001b[1;32m----> 1\u001b[1;33m \u001b[0mmy_area3\u001b[0m \u001b[1;33m=\u001b[0m \u001b[0mStudyArea\u001b[0m\u001b[1;33m(\u001b[0m\u001b[0mp\u001b[0m\u001b[1;33m=\u001b[0m\u001b[1;36m1750\u001b[0m\u001b[1;33m,\u001b[0m \u001b[0metp\u001b[0m\u001b[1;33m=\u001b[0m\u001b[1;36m400\u001b[0m\u001b[1;33m)\u001b[0m\u001b[1;33m\u001b[0m\u001b[1;33m\u001b[0m\u001b[0m\n\u001b[0m",
      "\u001b[1;32m~\\Google Drive\\23_LU-Hannover\\Research-Project\\3_Presentation\\jupyter\\dwa_a102.py\u001b[0m in \u001b[0;36m__init__\u001b[1;34m(self, p, etp, location)\u001b[0m\n\u001b[0;32m   1112\u001b[0m             \u001b[0mself\u001b[0m\u001b[1;33m.\u001b[0m\u001b[0metp\u001b[0m \u001b[1;33m=\u001b[0m \u001b[0metp\u001b[0m\u001b[1;33m\u001b[0m\u001b[1;33m\u001b[0m\u001b[0m\n\u001b[0;32m   1113\u001b[0m \u001b[1;33m\u001b[0m\u001b[0m\n\u001b[1;32m-> 1114\u001b[1;33m         \u001b[0mvalidRange\u001b[0m\u001b[1;33m(\u001b[0m\u001b[0mself\u001b[0m\u001b[1;33m.\u001b[0m\u001b[0mp\u001b[0m\u001b[1;33m,\u001b[0m \u001b[1;34m'P'\u001b[0m\u001b[1;33m)\u001b[0m\u001b[1;33m\u001b[0m\u001b[1;33m\u001b[0m\u001b[0m\n\u001b[0m\u001b[0;32m   1115\u001b[0m         \u001b[0mvalidRange\u001b[0m\u001b[1;33m(\u001b[0m\u001b[0mself\u001b[0m\u001b[1;33m.\u001b[0m\u001b[0metp\u001b[0m\u001b[1;33m,\u001b[0m \u001b[1;34m'ETp'\u001b[0m\u001b[1;33m)\u001b[0m\u001b[1;33m\u001b[0m\u001b[1;33m\u001b[0m\u001b[0m\n\u001b[0;32m   1116\u001b[0m \u001b[1;33m\u001b[0m\u001b[0m\n",
      "\u001b[1;32m~\\Google Drive\\23_LU-Hannover\\Research-Project\\3_Presentation\\jupyter\\check_ranges.py\u001b[0m in \u001b[0;36mvalidRange\u001b[1;34m(val, param)\u001b[0m\n\u001b[0;32m     48\u001b[0m \u001b[1;33m\u001b[0m\u001b[0m\n\u001b[0;32m     49\u001b[0m     \u001b[1;32mif\u001b[0m \u001b[1;33m(\u001b[0m \u001b[1;33m(\u001b[0m\u001b[0mval\u001b[0m \u001b[1;33m<\u001b[0m \u001b[0mparam_rages\u001b[0m\u001b[1;33m[\u001b[0m\u001b[0mparam\u001b[0m\u001b[1;33m]\u001b[0m\u001b[1;33m[\u001b[0m\u001b[1;36m0\u001b[0m\u001b[1;33m]\u001b[0m\u001b[1;33m)\u001b[0m \u001b[1;32mor\u001b[0m \u001b[1;33m(\u001b[0m\u001b[0mval\u001b[0m \u001b[1;33m>\u001b[0m \u001b[0mparam_rages\u001b[0m\u001b[1;33m[\u001b[0m\u001b[0mparam\u001b[0m\u001b[1;33m]\u001b[0m\u001b[1;33m[\u001b[0m\u001b[1;36m1\u001b[0m\u001b[1;33m]\u001b[0m\u001b[1;33m)\u001b[0m \u001b[1;33m)\u001b[0m\u001b[1;33m:\u001b[0m\u001b[1;33m\u001b[0m\u001b[1;33m\u001b[0m\u001b[0m\n\u001b[1;32m---> 50\u001b[1;33m         raise Exception(f\"{param_rages[param][2]} is not valid.\"\n\u001b[0m\u001b[0;32m     51\u001b[0m                         \u001b[1;34mf\" Acceptable range: {param_rages[param][0]} - {param_rages[param][1]}\"\u001b[0m\u001b[1;33m\u001b[0m\u001b[1;33m\u001b[0m\u001b[0m\n\u001b[0;32m     52\u001b[0m                         f\" {param_rages[param][3]}\")\n",
      "\u001b[1;31mException\u001b[0m: Precipitation is not valid. Acceptable range: 500 - 1700 mm/a"
     ]
    }
   ],
   "source": [
    "my_area3 = StudyArea(p=1750, etp=400)"
   ]
  },
  {
   "cell_type": "code",
   "execution_count": 6,
   "metadata": {},
   "outputs": [
    {
     "ename": "Exception",
     "evalue": "Evapotranspiration is not valid. Acceptable range: 450 - 700 mm/a",
     "output_type": "error",
     "traceback": [
      "\u001b[1;31m---------------------------------------------------------------------------\u001b[0m",
      "\u001b[1;31mException\u001b[0m                                 Traceback (most recent call last)",
      "\u001b[1;32m<ipython-input-6-76d756751319>\u001b[0m in \u001b[0;36m<module>\u001b[1;34m\u001b[0m\n\u001b[1;32m----> 1\u001b[1;33m \u001b[0mmy_area3\u001b[0m \u001b[1;33m=\u001b[0m \u001b[0mStudyArea\u001b[0m\u001b[1;33m(\u001b[0m\u001b[0mp\u001b[0m\u001b[1;33m=\u001b[0m\u001b[1;36m1700\u001b[0m\u001b[1;33m,\u001b[0m \u001b[0metp\u001b[0m\u001b[1;33m=\u001b[0m\u001b[1;36m400\u001b[0m\u001b[1;33m)\u001b[0m\u001b[1;33m\u001b[0m\u001b[1;33m\u001b[0m\u001b[0m\n\u001b[0m",
      "\u001b[1;32m~\\Google Drive\\23_LU-Hannover\\Research-Project\\3_Presentation\\jupyter\\dwa_a102.py\u001b[0m in \u001b[0;36m__init__\u001b[1;34m(self, p, etp, location)\u001b[0m\n\u001b[0;32m   1113\u001b[0m \u001b[1;33m\u001b[0m\u001b[0m\n\u001b[0;32m   1114\u001b[0m         \u001b[0mvalidRange\u001b[0m\u001b[1;33m(\u001b[0m\u001b[0mself\u001b[0m\u001b[1;33m.\u001b[0m\u001b[0mp\u001b[0m\u001b[1;33m,\u001b[0m \u001b[1;34m'P'\u001b[0m\u001b[1;33m)\u001b[0m\u001b[1;33m\u001b[0m\u001b[1;33m\u001b[0m\u001b[0m\n\u001b[1;32m-> 1115\u001b[1;33m         \u001b[0mvalidRange\u001b[0m\u001b[1;33m(\u001b[0m\u001b[0mself\u001b[0m\u001b[1;33m.\u001b[0m\u001b[0metp\u001b[0m\u001b[1;33m,\u001b[0m \u001b[1;34m'ETp'\u001b[0m\u001b[1;33m)\u001b[0m\u001b[1;33m\u001b[0m\u001b[1;33m\u001b[0m\u001b[0m\n\u001b[0m\u001b[0;32m   1116\u001b[0m \u001b[1;33m\u001b[0m\u001b[0m\n\u001b[0;32m   1117\u001b[0m     \u001b[1;32mdef\u001b[0m \u001b[0m__str__\u001b[0m\u001b[1;33m(\u001b[0m\u001b[0mself\u001b[0m\u001b[1;33m)\u001b[0m\u001b[1;33m:\u001b[0m\u001b[1;33m\u001b[0m\u001b[1;33m\u001b[0m\u001b[0m\n",
      "\u001b[1;32m~\\Google Drive\\23_LU-Hannover\\Research-Project\\3_Presentation\\jupyter\\check_ranges.py\u001b[0m in \u001b[0;36mvalidRange\u001b[1;34m(val, param)\u001b[0m\n\u001b[0;32m     48\u001b[0m \u001b[1;33m\u001b[0m\u001b[0m\n\u001b[0;32m     49\u001b[0m     \u001b[1;32mif\u001b[0m \u001b[1;33m(\u001b[0m \u001b[1;33m(\u001b[0m\u001b[0mval\u001b[0m \u001b[1;33m<\u001b[0m \u001b[0mparam_rages\u001b[0m\u001b[1;33m[\u001b[0m\u001b[0mparam\u001b[0m\u001b[1;33m]\u001b[0m\u001b[1;33m[\u001b[0m\u001b[1;36m0\u001b[0m\u001b[1;33m]\u001b[0m\u001b[1;33m)\u001b[0m \u001b[1;32mor\u001b[0m \u001b[1;33m(\u001b[0m\u001b[0mval\u001b[0m \u001b[1;33m>\u001b[0m \u001b[0mparam_rages\u001b[0m\u001b[1;33m[\u001b[0m\u001b[0mparam\u001b[0m\u001b[1;33m]\u001b[0m\u001b[1;33m[\u001b[0m\u001b[1;36m1\u001b[0m\u001b[1;33m]\u001b[0m\u001b[1;33m)\u001b[0m \u001b[1;33m)\u001b[0m\u001b[1;33m:\u001b[0m\u001b[1;33m\u001b[0m\u001b[1;33m\u001b[0m\u001b[0m\n\u001b[1;32m---> 50\u001b[1;33m         raise Exception(f\"{param_rages[param][2]} is not valid.\"\n\u001b[0m\u001b[0;32m     51\u001b[0m                         \u001b[1;34mf\" Acceptable range: {param_rages[param][0]} - {param_rages[param][1]}\"\u001b[0m\u001b[1;33m\u001b[0m\u001b[1;33m\u001b[0m\u001b[0m\n\u001b[0;32m     52\u001b[0m                         f\" {param_rages[param][3]}\")\n",
      "\u001b[1;31mException\u001b[0m: Evapotranspiration is not valid. Acceptable range: 450 - 700 mm/a"
     ]
    }
   ],
   "source": [
    "my_area3 = StudyArea(p=1700, etp=400)"
   ]
  },
  {
   "cell_type": "code",
   "execution_count": 7,
   "metadata": {},
   "outputs": [
    {
     "name": "stdout",
     "output_type": "stream",
     "text": [
      "Study area has a precipitation of 1700 mm/a, and potential evapotranspiration of 450 mm/a\n"
     ]
    }
   ],
   "source": [
    "my_area3 = StudyArea(p=1700, etp=450)\n",
    "print(my_area3)"
   ]
  },
  {
   "cell_type": "markdown",
   "metadata": {},
   "source": [
    "## 2.2 Surfaces\n",
    "Consider that in Hannover a building that is sorrounded by a parking area and some gardens as shown in the following figure.\n",
    "    \n",
    "<br></br>\n",
    "<center><img src=\"images/LUH_Building_Example.png\"  style=\"width: 450px\"><center>\n",
    "<br></br>\n",
    "\n",
    "<center> <b> Fig. 3: Study area in Hannover </b> <center>\n",
    "<center> Source: Google Earth <center>"
   ]
  },
  {
   "cell_type": "markdown",
   "metadata": {},
   "source": [
    "The type of surfaces, their area, and method to use in the library are presented in the following table:"
   ]
  },
  {
   "cell_type": "markdown",
   "metadata": {},
   "source": [
    "<center> <b> Table 1: Surfaces and methods to apply in example </b> <center>\n",
    "      \n",
    "    \n",
    "| Surface     \t| Area (m<sup>2</sup>) \t| Method to use   \t                     |\n",
    "|-------------\t|-----------\t        |-----------------\t                     |\n",
    "| Steep roof  \t| 1100      \t        | roof(self, area, sp=0.3)    \t         |\n",
    "| Parking lot \t| 1500      \t        | flat_area(self, area, sp=1) \t         |\n",
    "| Garden      \t| 440       \t        | garden(self, area, a=0.2, g=0.2, v=0.6)|\n",
    "| Flat roof   \t| 92        \t        | roof(self, area, sp=0.6)       \t     |\n",
    "| Total area  \t| 3132      \t        |                 \t                     |"
   ]
  },
  {
   "cell_type": "markdown",
   "metadata": {},
   "source": [
    "In case the user requires details about the methods, the method \"help\" describes the method, as well details about inputs, default values, and outputs. To access to the help function just type \"help(StudyArea(method)\", for example \"help(StudyArea(green_roof)\". In this example, because \"hannover\" is already a StudyArea, we can call directly the helps function as:"
   ]
  },
  {
   "cell_type": "code",
   "execution_count": null,
   "metadata": {},
   "outputs": [],
   "source": [
    "help(hannover.roof)"
   ]
  },
  {
   "cell_type": "code",
   "execution_count": null,
   "metadata": {},
   "outputs": [],
   "source": [
    "steep_roof = hannover.roof(area=1100, sp=0.3)\n",
    "print(steep_roof)"
   ]
  },
  {
   "cell_type": "markdown",
   "metadata": {},
   "source": [
    "With: <br />\n",
    "\n",
    "Area: surface of element (m<sup>2</sup>) \\\n",
    "Au: effective area generating runoff (m<sup>2</sup>), (calculated as Area*a)\\\n",
    "P: precipitation (mm/a)\\\n",
    "ETp: potential evapotranspiration (mm/a)\\\n",
    "a\t: partitioning factor for surface runoff (-)\\\n",
    "g: partitioning factor for groundwater recharge (-)\\\n",
    "v: partitioning factor for evapotranspiration (-)\\\n",
    "e: fractioning factor of precipitation for rainwater usage/harvesting (-)\\\n",
    "Vp: volume of precipitation in a year over the element (m<sup>3</sup>)\\\n",
    "Vg: volume of groundwater recharge in a year due to the element (m<sup>3</sup>)\\\n",
    "Vv: evapo(transpi)red volume in a year over the element (m<sup>3</sup>)\\\n",
    "Ve: volume of water used/harvested per year (m<sup>3</sup>)."
   ]
  },
  {
   "cell_type": "code",
   "execution_count": null,
   "metadata": {},
   "outputs": [],
   "source": [
    "parking_lot = hannover.flat_area(area=1500)\n",
    "print(parking_lot)"
   ]
  },
  {
   "cell_type": "code",
   "execution_count": null,
   "metadata": {},
   "outputs": [],
   "source": [
    "garden = hannover.garden(area=440)\n",
    "print(garden)"
   ]
  },
  {
   "cell_type": "code",
   "execution_count": null,
   "metadata": {},
   "outputs": [],
   "source": [
    "flat_roof = hannover.roof(area=92, sp=0.6)\n",
    "print(flat_roof)"
   ]
  },
  {
   "cell_type": "markdown",
   "metadata": {},
   "source": [
    "In this point, it is relevant to consider the whole water balance of system compound by the designed elements. In this step we use the function \"watbal()\" as follows: "
   ]
  },
  {
   "cell_type": "code",
   "execution_count": null,
   "metadata": {},
   "outputs": [],
   "source": [
    "watbal(steep_roof, parking_lot, garden, flat_roof)"
   ]
  },
  {
   "cell_type": "markdown",
   "metadata": {},
   "source": [
    "Notice that 76% of the precipitation becomes surface runoff. While the groundwater recharge is below 3%, and the losses due to evapotranspiration reach 21%."
   ]
  },
  {
   "cell_type": "markdown",
   "metadata": {},
   "source": [
    "## 2.3 Measures\n",
    "The University´s Infrastructure Office wants to know how some changes in the type of surfaces and the installation of some stormwater measures contribute to restoring the natural water balance in a pilot area. The main ideas consist of changing the surface type of the parking lots from paved into grass pavers. The flat roof would be adequate as a green roof, and the installation of a swale to manage the runoff produced by the steep roof is considered. The final pilot area would look like the following figure:\n",
    "    \n",
    "<br></br>\n",
    "<center><img src=\"images/LUH_Building_Example_&_Measures.png\"  style=\"width: 450px\"><center>\n",
    "<br></br>\n",
    "    \n",
    "<center> <b> Fig. 4: Study area in Hannover after modifiying soil type</b> <center>\n",
    "<center> Source: Adapted from Google Earth <center>\n",
    "<br></br>    \n",
    " \n",
    "<center> <b> Table 2: Surfaces, measures, and methods to be applied </b> <center>    \n",
    "    \n",
    "| Surface     \t| New surface  \t| Measure            \t| Area (m<sup>2</sup>) \t| Method for   surface type                                 \t| Method for   measure                                       \t|\n",
    "|-------------\t|--------------\t|--------------------\t|-----------\t|-----------------------------------------------------------\t|------------------------------------------------------------\t|\n",
    "| Steep roof  \t|             \t| Infiltration swale \t| 1100      \t| roof(self, area,   sp=0.3)                                \t|  infilt_swale(self, kf, *surfaces,   fasm=\"fasm_standard\") \t|\n",
    "| Parking lot \t| Green pavers \t|                    \t| 1500      \t| paver_stonegrid(self,   area, fa=25, sp=1, wkmax_wp=0.15) \t|                                                            \t|\n",
    "| Garden      \t|             \t|                    \t| 440       \t| garden(self, area,   a=0.2, g=0.2, v=0.6)                 \t|                                                            \t|\n",
    "| Flat roof   \t| Green roof   \t|                    \t| 92        \t| green_roof(self,   area, h, kf=70, wkmax_wp=0.5)          \t|                                                            \t|\n",
    "| Total area  \t|              \t|                    \t| 3132      \t|                                                           \t|                                                            \t|"
   ]
  },
  {
   "cell_type": "code",
   "execution_count": null,
   "metadata": {},
   "outputs": [],
   "source": [
    "steep_roof = hannover.roof(area=1100, sp=0.3)\n",
    "swale = hannover.infilt_swale(42, steep_roof)\n",
    "print(swale)"
   ]
  },
  {
   "cell_type": "code",
   "execution_count": null,
   "metadata": {},
   "outputs": [],
   "source": [
    "parking_lot = hannover.paver_stonegrid(1500)\n",
    "garden = hannover.garden(area=310)\n",
    "green_roof = hannover.green_roof(92, 100)"
   ]
  },
  {
   "cell_type": "markdown",
   "metadata": {},
   "source": [
    "The water balance of the analyzed system after the installation of the measures is:"
   ]
  },
  {
   "cell_type": "code",
   "execution_count": null,
   "metadata": {},
   "outputs": [],
   "source": [
    "watbal(swale, parking_lot, garden, green_roof)"
   ]
  },
  {
   "cell_type": "markdown",
   "metadata": {},
   "source": [
    "The water balance of the pilot area changes considerably. The surface runoff is around 5%, while the groundwater recharge represents 71%, and only 24% of the losses correspond to evapotranspiration. At first glance, the result seems adequate. However, the current configuration may produce an excessive (non-natural) groundwater recharge rate. The measures to be applied should increase evapotranspiration."
   ]
  },
  {
   "cell_type": "markdown",
   "metadata": {},
   "source": [
    "# 3 References\n",
    "\n",
    "* DWA-A 102, 2017. Niederschlagsbedingte Siedlungsabﬂüsse – Grundsätze und Anforderungen\n",
    "zum Umgang mit Regenwasser (Entwurf). DWA-Arbeitsblatt 100. Hennef: Deutsche\n",
    "Vereinigung für Wasserwirtschaft, Abwasser und Abfall e. V. (in German)."
   ]
  }
 ],
 "metadata": {
  "kernelspec": {
   "display_name": "Python 3",
   "language": "python",
   "name": "python3"
  },
  "language_info": {
   "codemirror_mode": {
    "name": "ipython",
    "version": 3
   },
   "file_extension": ".py",
   "mimetype": "text/x-python",
   "name": "python",
   "nbconvert_exporter": "python",
   "pygments_lexer": "ipython3",
   "version": "3.8.5"
  }
 },
 "nbformat": 4,
 "nbformat_minor": 4
}
