{
 "cells": [
  {
   "cell_type": "markdown",
   "metadata": {},
   "source": [
    "# Using the DWA-a102 library\n",
    "\n",
    "**created by edwin salazar and carlos guevara**\n",
    "\n",
    "about this notebook: shows the usage of the above mentioned library for the water balance calculation of different surfaces and and corresponding measures for the runoff uptake "
   ]
  },
  {
   "cell_type": "code",
   "execution_count": 2,
   "metadata": {},
   "outputs": [],
   "source": [
    "# import stabdard libraries\n",
    "import numpy as np\n",
    "import pandas as pd\n",
    "\n",
    "# import dwa-a102 libraries\n",
    "from dwa-a102 import StudyArea as StudyArea\n",
    "from check_ranges import validRange\n",
    "from climate import climate"
   ]
  },
  {
   "attachments": {},
   "cell_type": "markdown",
   "metadata": {},
   "source": [
    "### Example # 1 \n",
    "\n",
    "In Wuppertal the administrator of a residential building desire to install a rainwater in-situ measure to reduce the runoff. The building has a built area of 750 m$^{2}$. The desired measure is an infiltration swale (hydraulic conductivity of the soil = 20 mm h$^{-1}$). \n",
    "\n",
    "<br></br>\n",
    "<center><img src=\"images/example_1.png\" style=\"width: 300px\"/></center>\n",
    "<br></br>\n",
    "\n",
    "Calculate the required area to infiltrate the rainwater and report the main components of the water balance.\n"
   ]
  }
 ],
 "metadata": {
  "kernelspec": {
   "display_name": "Python 3",
   "language": "python",
   "name": "python3"
  },
  "language_info": {
   "codemirror_mode": {
    "name": "ipython",
    "version": 3
   },
   "file_extension": ".py",
   "mimetype": "text/x-python",
   "name": "python",
   "nbconvert_exporter": "python",
   "pygments_lexer": "ipython3",
   "version": "3.7.6"
  }
 },
 "nbformat": 4,
 "nbformat_minor": 4
}
